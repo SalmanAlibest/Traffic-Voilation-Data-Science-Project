{
 "cells": [
  {
   "cell_type": "code",
   "execution_count": 1,
   "metadata": {},
   "outputs": [],
   "source": [
    "import pandas as pd\n",
    "import numpy as np\n",
    "import matplotlib.pyplot as plt"
   ]
  },
  {
   "cell_type": "code",
   "execution_count": 2,
   "metadata": {},
   "outputs": [],
   "source": [
    "%matplotlib inline"
   ]
  },
  {
   "cell_type": "code",
   "execution_count": 3,
   "metadata": {},
   "outputs": [],
   "source": [
    "data= pd.read_csv(\"./Dataset/police_project.csv\") #Loading Data from Csv file"
   ]
  },
  {
   "cell_type": "code",
   "execution_count": 77,
   "metadata": {},
   "outputs": [
    {
     "data": {
      "text/html": [
       "<div>\n",
       "<style scoped>\n",
       "    .dataframe tbody tr th:only-of-type {\n",
       "        vertical-align: middle;\n",
       "    }\n",
       "\n",
       "    .dataframe tbody tr th {\n",
       "        vertical-align: top;\n",
       "    }\n",
       "\n",
       "    .dataframe thead th {\n",
       "        text-align: right;\n",
       "    }\n",
       "</style>\n",
       "<table border=\"1\" class=\"dataframe\">\n",
       "  <thead>\n",
       "    <tr style=\"text-align: right;\">\n",
       "      <th></th>\n",
       "      <th>stop_date</th>\n",
       "      <th>stop_time</th>\n",
       "      <th>driver_gender</th>\n",
       "      <th>driver_age_raw</th>\n",
       "      <th>driver_age</th>\n",
       "      <th>driver_race</th>\n",
       "      <th>violation_raw</th>\n",
       "      <th>violation</th>\n",
       "      <th>search_conducted</th>\n",
       "      <th>stop_outcome</th>\n",
       "      <th>is_arrested</th>\n",
       "      <th>stop_duration</th>\n",
       "      <th>drugs_related_stop</th>\n",
       "    </tr>\n",
       "  </thead>\n",
       "  <tbody>\n",
       "    <tr>\n",
       "      <th>91721</th>\n",
       "      <td>2015-12-31</td>\n",
       "      <td>06:49</td>\n",
       "      <td>M</td>\n",
       "      <td>1943.0</td>\n",
       "      <td>72.0</td>\n",
       "      <td>White</td>\n",
       "      <td>Speeding</td>\n",
       "      <td>Speeding</td>\n",
       "      <td>False</td>\n",
       "      <td>Warning</td>\n",
       "      <td>False</td>\n",
       "      <td>0-15 Min</td>\n",
       "      <td>False</td>\n",
       "    </tr>\n",
       "    <tr>\n",
       "      <th>91722</th>\n",
       "      <td>2015-12-31</td>\n",
       "      <td>07:06</td>\n",
       "      <td>M</td>\n",
       "      <td>1970.0</td>\n",
       "      <td>45.0</td>\n",
       "      <td>Black</td>\n",
       "      <td>Speeding</td>\n",
       "      <td>Speeding</td>\n",
       "      <td>False</td>\n",
       "      <td>Citation</td>\n",
       "      <td>False</td>\n",
       "      <td>0-15 Min</td>\n",
       "      <td>False</td>\n",
       "    </tr>\n",
       "    <tr>\n",
       "      <th>91723</th>\n",
       "      <td>2015-12-31</td>\n",
       "      <td>07:14</td>\n",
       "      <td>M</td>\n",
       "      <td>1978.0</td>\n",
       "      <td>37.0</td>\n",
       "      <td>Hispanic</td>\n",
       "      <td>Registration Violation</td>\n",
       "      <td>Registration/plates</td>\n",
       "      <td>False</td>\n",
       "      <td>Citation</td>\n",
       "      <td>False</td>\n",
       "      <td>0-15 Min</td>\n",
       "      <td>False</td>\n",
       "    </tr>\n",
       "    <tr>\n",
       "      <th>91724</th>\n",
       "      <td>2015-12-31</td>\n",
       "      <td>07:27</td>\n",
       "      <td>M</td>\n",
       "      <td>1997.0</td>\n",
       "      <td>18.0</td>\n",
       "      <td>White</td>\n",
       "      <td>Speeding</td>\n",
       "      <td>Speeding</td>\n",
       "      <td>False</td>\n",
       "      <td>Citation</td>\n",
       "      <td>False</td>\n",
       "      <td>0-15 Min</td>\n",
       "      <td>False</td>\n",
       "    </tr>\n",
       "    <tr>\n",
       "      <th>91725</th>\n",
       "      <td>2015-12-31</td>\n",
       "      <td>08:14</td>\n",
       "      <td>F</td>\n",
       "      <td>1960.0</td>\n",
       "      <td>55.0</td>\n",
       "      <td>White</td>\n",
       "      <td>Speeding</td>\n",
       "      <td>Speeding</td>\n",
       "      <td>False</td>\n",
       "      <td>Citation</td>\n",
       "      <td>False</td>\n",
       "      <td>0-15 Min</td>\n",
       "      <td>False</td>\n",
       "    </tr>\n",
       "    <tr>\n",
       "      <th>91726</th>\n",
       "      <td>2015-12-31</td>\n",
       "      <td>08:41</td>\n",
       "      <td>M</td>\n",
       "      <td>1992.0</td>\n",
       "      <td>23.0</td>\n",
       "      <td>White</td>\n",
       "      <td>Speeding</td>\n",
       "      <td>Speeding</td>\n",
       "      <td>False</td>\n",
       "      <td>No Action</td>\n",
       "      <td>False</td>\n",
       "      <td>0-15 Min</td>\n",
       "      <td>False</td>\n",
       "    </tr>\n",
       "    <tr>\n",
       "      <th>91727</th>\n",
       "      <td>2015-12-31</td>\n",
       "      <td>09:17</td>\n",
       "      <td>F</td>\n",
       "      <td>1995.0</td>\n",
       "      <td>20.0</td>\n",
       "      <td>White</td>\n",
       "      <td>Speeding</td>\n",
       "      <td>Speeding</td>\n",
       "      <td>False</td>\n",
       "      <td>Warning</td>\n",
       "      <td>False</td>\n",
       "      <td>16-30 Min</td>\n",
       "      <td>False</td>\n",
       "    </tr>\n",
       "    <tr>\n",
       "      <th>91728</th>\n",
       "      <td>2015-12-31</td>\n",
       "      <td>13:50</td>\n",
       "      <td>F</td>\n",
       "      <td>1982.0</td>\n",
       "      <td>33.0</td>\n",
       "      <td>Hispanic</td>\n",
       "      <td>Speeding</td>\n",
       "      <td>Speeding</td>\n",
       "      <td>False</td>\n",
       "      <td>Citation</td>\n",
       "      <td>False</td>\n",
       "      <td>0-15 Min</td>\n",
       "      <td>False</td>\n",
       "    </tr>\n",
       "    <tr>\n",
       "      <th>91729</th>\n",
       "      <td>2015-12-31</td>\n",
       "      <td>14:21</td>\n",
       "      <td>F</td>\n",
       "      <td>1988.0</td>\n",
       "      <td>27.0</td>\n",
       "      <td>White</td>\n",
       "      <td>Equipment/Inspection Violation</td>\n",
       "      <td>Equipment</td>\n",
       "      <td>False</td>\n",
       "      <td>Citation</td>\n",
       "      <td>False</td>\n",
       "      <td>0-15 Min</td>\n",
       "      <td>False</td>\n",
       "    </tr>\n",
       "    <tr>\n",
       "      <th>91730</th>\n",
       "      <td>2015-12-31</td>\n",
       "      <td>15:36</td>\n",
       "      <td>F</td>\n",
       "      <td>1996.0</td>\n",
       "      <td>19.0</td>\n",
       "      <td>Hispanic</td>\n",
       "      <td>Equipment/Inspection Violation</td>\n",
       "      <td>Equipment</td>\n",
       "      <td>False</td>\n",
       "      <td>Warning</td>\n",
       "      <td>False</td>\n",
       "      <td>0-15 Min</td>\n",
       "      <td>False</td>\n",
       "    </tr>\n",
       "    <tr>\n",
       "      <th>91731</th>\n",
       "      <td>2015-12-31</td>\n",
       "      <td>16:38</td>\n",
       "      <td>F</td>\n",
       "      <td>1988.0</td>\n",
       "      <td>27.0</td>\n",
       "      <td>White</td>\n",
       "      <td>Speeding</td>\n",
       "      <td>Speeding</td>\n",
       "      <td>False</td>\n",
       "      <td>Citation</td>\n",
       "      <td>False</td>\n",
       "      <td>0-15 Min</td>\n",
       "      <td>False</td>\n",
       "    </tr>\n",
       "    <tr>\n",
       "      <th>91732</th>\n",
       "      <td>2015-12-31</td>\n",
       "      <td>19:44</td>\n",
       "      <td>F</td>\n",
       "      <td>1969.0</td>\n",
       "      <td>46.0</td>\n",
       "      <td>White</td>\n",
       "      <td>Speeding</td>\n",
       "      <td>Speeding</td>\n",
       "      <td>False</td>\n",
       "      <td>Warning</td>\n",
       "      <td>False</td>\n",
       "      <td>0-15 Min</td>\n",
       "      <td>False</td>\n",
       "    </tr>\n",
       "    <tr>\n",
       "      <th>91733</th>\n",
       "      <td>2015-12-31</td>\n",
       "      <td>19:55</td>\n",
       "      <td>F</td>\n",
       "      <td>1974.0</td>\n",
       "      <td>41.0</td>\n",
       "      <td>White</td>\n",
       "      <td>Registration Violation</td>\n",
       "      <td>Registration/plates</td>\n",
       "      <td>False</td>\n",
       "      <td>Citation</td>\n",
       "      <td>False</td>\n",
       "      <td>0-15 Min</td>\n",
       "      <td>False</td>\n",
       "    </tr>\n",
       "    <tr>\n",
       "      <th>91734</th>\n",
       "      <td>2015-12-31</td>\n",
       "      <td>20:20</td>\n",
       "      <td>M</td>\n",
       "      <td>1993.0</td>\n",
       "      <td>22.0</td>\n",
       "      <td>White</td>\n",
       "      <td>Speeding</td>\n",
       "      <td>Speeding</td>\n",
       "      <td>False</td>\n",
       "      <td>Citation</td>\n",
       "      <td>False</td>\n",
       "      <td>0-15 Min</td>\n",
       "      <td>False</td>\n",
       "    </tr>\n",
       "    <tr>\n",
       "      <th>91735</th>\n",
       "      <td>2015-12-31</td>\n",
       "      <td>20:25</td>\n",
       "      <td>M</td>\n",
       "      <td>1992.0</td>\n",
       "      <td>23.0</td>\n",
       "      <td>Hispanic</td>\n",
       "      <td>Speeding</td>\n",
       "      <td>Speeding</td>\n",
       "      <td>False</td>\n",
       "      <td>Citation</td>\n",
       "      <td>False</td>\n",
       "      <td>0-15 Min</td>\n",
       "      <td>False</td>\n",
       "    </tr>\n",
       "    <tr>\n",
       "      <th>91736</th>\n",
       "      <td>2015-12-31</td>\n",
       "      <td>20:27</td>\n",
       "      <td>M</td>\n",
       "      <td>1986.0</td>\n",
       "      <td>29.0</td>\n",
       "      <td>White</td>\n",
       "      <td>Speeding</td>\n",
       "      <td>Speeding</td>\n",
       "      <td>False</td>\n",
       "      <td>Warning</td>\n",
       "      <td>False</td>\n",
       "      <td>0-15 Min</td>\n",
       "      <td>False</td>\n",
       "    </tr>\n",
       "    <tr>\n",
       "      <th>91737</th>\n",
       "      <td>2015-12-31</td>\n",
       "      <td>20:35</td>\n",
       "      <td>F</td>\n",
       "      <td>1982.0</td>\n",
       "      <td>33.0</td>\n",
       "      <td>White</td>\n",
       "      <td>Equipment/Inspection Violation</td>\n",
       "      <td>Equipment</td>\n",
       "      <td>False</td>\n",
       "      <td>Warning</td>\n",
       "      <td>False</td>\n",
       "      <td>0-15 Min</td>\n",
       "      <td>False</td>\n",
       "    </tr>\n",
       "    <tr>\n",
       "      <th>91738</th>\n",
       "      <td>2015-12-31</td>\n",
       "      <td>20:45</td>\n",
       "      <td>M</td>\n",
       "      <td>1992.0</td>\n",
       "      <td>23.0</td>\n",
       "      <td>White</td>\n",
       "      <td>Other Traffic Violation</td>\n",
       "      <td>Moving violation</td>\n",
       "      <td>False</td>\n",
       "      <td>Warning</td>\n",
       "      <td>False</td>\n",
       "      <td>0-15 Min</td>\n",
       "      <td>False</td>\n",
       "    </tr>\n",
       "    <tr>\n",
       "      <th>91739</th>\n",
       "      <td>2015-12-31</td>\n",
       "      <td>21:42</td>\n",
       "      <td>M</td>\n",
       "      <td>1993.0</td>\n",
       "      <td>22.0</td>\n",
       "      <td>White</td>\n",
       "      <td>Speeding</td>\n",
       "      <td>Speeding</td>\n",
       "      <td>False</td>\n",
       "      <td>Citation</td>\n",
       "      <td>False</td>\n",
       "      <td>0-15 Min</td>\n",
       "      <td>False</td>\n",
       "    </tr>\n",
       "    <tr>\n",
       "      <th>91740</th>\n",
       "      <td>2015-12-31</td>\n",
       "      <td>22:46</td>\n",
       "      <td>M</td>\n",
       "      <td>1959.0</td>\n",
       "      <td>56.0</td>\n",
       "      <td>Hispanic</td>\n",
       "      <td>Speeding</td>\n",
       "      <td>Speeding</td>\n",
       "      <td>False</td>\n",
       "      <td>Citation</td>\n",
       "      <td>False</td>\n",
       "      <td>0-15 Min</td>\n",
       "      <td>False</td>\n",
       "    </tr>\n",
       "  </tbody>\n",
       "</table>\n",
       "</div>"
      ],
      "text/plain": [
       "        stop_date stop_time driver_gender  driver_age_raw  driver_age  \\\n",
       "91721  2015-12-31     06:49             M          1943.0        72.0   \n",
       "91722  2015-12-31     07:06             M          1970.0        45.0   \n",
       "91723  2015-12-31     07:14             M          1978.0        37.0   \n",
       "91724  2015-12-31     07:27             M          1997.0        18.0   \n",
       "91725  2015-12-31     08:14             F          1960.0        55.0   \n",
       "91726  2015-12-31     08:41             M          1992.0        23.0   \n",
       "91727  2015-12-31     09:17             F          1995.0        20.0   \n",
       "91728  2015-12-31     13:50             F          1982.0        33.0   \n",
       "91729  2015-12-31     14:21             F          1988.0        27.0   \n",
       "91730  2015-12-31     15:36             F          1996.0        19.0   \n",
       "91731  2015-12-31     16:38             F          1988.0        27.0   \n",
       "91732  2015-12-31     19:44             F          1969.0        46.0   \n",
       "91733  2015-12-31     19:55             F          1974.0        41.0   \n",
       "91734  2015-12-31     20:20             M          1993.0        22.0   \n",
       "91735  2015-12-31     20:25             M          1992.0        23.0   \n",
       "91736  2015-12-31     20:27             M          1986.0        29.0   \n",
       "91737  2015-12-31     20:35             F          1982.0        33.0   \n",
       "91738  2015-12-31     20:45             M          1992.0        23.0   \n",
       "91739  2015-12-31     21:42             M          1993.0        22.0   \n",
       "91740  2015-12-31     22:46             M          1959.0        56.0   \n",
       "\n",
       "      driver_race                   violation_raw            violation  \\\n",
       "91721       White                        Speeding             Speeding   \n",
       "91722       Black                        Speeding             Speeding   \n",
       "91723    Hispanic          Registration Violation  Registration/plates   \n",
       "91724       White                        Speeding             Speeding   \n",
       "91725       White                        Speeding             Speeding   \n",
       "91726       White                        Speeding             Speeding   \n",
       "91727       White                        Speeding             Speeding   \n",
       "91728    Hispanic                        Speeding             Speeding   \n",
       "91729       White  Equipment/Inspection Violation            Equipment   \n",
       "91730    Hispanic  Equipment/Inspection Violation            Equipment   \n",
       "91731       White                        Speeding             Speeding   \n",
       "91732       White                        Speeding             Speeding   \n",
       "91733       White          Registration Violation  Registration/plates   \n",
       "91734       White                        Speeding             Speeding   \n",
       "91735    Hispanic                        Speeding             Speeding   \n",
       "91736       White                        Speeding             Speeding   \n",
       "91737       White  Equipment/Inspection Violation            Equipment   \n",
       "91738       White         Other Traffic Violation     Moving violation   \n",
       "91739       White                        Speeding             Speeding   \n",
       "91740    Hispanic                        Speeding             Speeding   \n",
       "\n",
       "       search_conducted stop_outcome is_arrested stop_duration  \\\n",
       "91721             False      Warning       False      0-15 Min   \n",
       "91722             False     Citation       False      0-15 Min   \n",
       "91723             False     Citation       False      0-15 Min   \n",
       "91724             False     Citation       False      0-15 Min   \n",
       "91725             False     Citation       False      0-15 Min   \n",
       "91726             False    No Action       False      0-15 Min   \n",
       "91727             False      Warning       False     16-30 Min   \n",
       "91728             False     Citation       False      0-15 Min   \n",
       "91729             False     Citation       False      0-15 Min   \n",
       "91730             False      Warning       False      0-15 Min   \n",
       "91731             False     Citation       False      0-15 Min   \n",
       "91732             False      Warning       False      0-15 Min   \n",
       "91733             False     Citation       False      0-15 Min   \n",
       "91734             False     Citation       False      0-15 Min   \n",
       "91735             False     Citation       False      0-15 Min   \n",
       "91736             False      Warning       False      0-15 Min   \n",
       "91737             False      Warning       False      0-15 Min   \n",
       "91738             False      Warning       False      0-15 Min   \n",
       "91739             False     Citation       False      0-15 Min   \n",
       "91740             False     Citation       False      0-15 Min   \n",
       "\n",
       "       drugs_related_stop  \n",
       "91721               False  \n",
       "91722               False  \n",
       "91723               False  \n",
       "91724               False  \n",
       "91725               False  \n",
       "91726               False  \n",
       "91727               False  \n",
       "91728               False  \n",
       "91729               False  \n",
       "91730               False  \n",
       "91731               False  \n",
       "91732               False  \n",
       "91733               False  \n",
       "91734               False  \n",
       "91735               False  \n",
       "91736               False  \n",
       "91737               False  \n",
       "91738               False  \n",
       "91739               False  \n",
       "91740               False  "
      ]
     },
     "execution_count": 77,
     "metadata": {},
     "output_type": "execute_result"
    }
   ],
   "source": [
    "data.tail(20)"
   ]
  },
  {
   "cell_type": "code",
   "execution_count": 5,
   "metadata": {},
   "outputs": [
    {
     "data": {
      "text/plain": [
       "stop_date                 0\n",
       "stop_time                 0\n",
       "county_name           91741\n",
       "driver_gender          5335\n",
       "driver_age_raw         5327\n",
       "driver_age             5621\n",
       "driver_race            5333\n",
       "violation_raw          5333\n",
       "violation              5333\n",
       "search_conducted          0\n",
       "search_type           88545\n",
       "stop_outcome           5333\n",
       "is_arrested            5333\n",
       "stop_duration          5333\n",
       "drugs_related_stop        0\n",
       "dtype: int64"
      ]
     },
     "execution_count": 5,
     "metadata": {},
     "output_type": "execute_result"
    }
   ],
   "source": [
    "data.isnull().sum()"
   ]
  },
  {
   "cell_type": "code",
   "execution_count": null,
   "metadata": {},
   "outputs": [],
   "source": [
    "data.drop(\"county_name\",axis=1,inplace=True)\n",
    "data.drop(\"search_type\",axis=1,inplace=True)"
   ]
  },
  {
   "cell_type": "code",
   "execution_count": 7,
   "metadata": {},
   "outputs": [],
   "source": [
    "male = data[data['driver_gender'] == 'M']\n",
    "female = data[data['driver_gender'] == 'F']"
   ]
  },
  {
   "cell_type": "code",
   "execution_count": 8,
   "metadata": {},
   "outputs": [],
   "source": [
    "malecount = male['driver_gender'].count()\n",
    "femalecount = female['driver_gender'].count()"
   ]
  },
  {
   "cell_type": "code",
   "execution_count": 9,
   "metadata": {},
   "outputs": [
    {
     "data": {
      "image/png": "[encoded data removed]",
      "text/plain": [
       "<Figure size 432x288 with 1 Axes>"
      ]
     },
     "metadata": {
      "needs_background": "light"
     },
     "output_type": "display_data"
    }
   ],
   "source": [
    "left = [1,2]\n",
    "height = [malecount,femalecount]\n",
    "tick_label = ['Male' , 'Female']\n",
    "plt.bar(left, height, tick_label = tick_label, width = 0.2, color = ['#343333', '#DC7633']) \n",
    "plt.xlabel('x - axis') \n",
    "plt.ylabel('y - axis') \n",
    "plt.title('Male/Female Ratio Graph') \n",
    "plt.show() "
   ]
  },
  {
   "cell_type": "code",
   "execution_count": 10,
   "metadata": {},
   "outputs": [],
   "source": [
    "age=data['driver_age']"
   ]
  },
  {
   "cell_type": "code",
   "execution_count": 11,
   "metadata": {},
   "outputs": [
    {
     "data": {
      "image/png": "[encoded data removed]",
      "text/plain": [
       "<Figure size 432x288 with 1 Axes>"
      ]
     },
     "metadata": {
      "needs_background": "light"
     },
     "output_type": "display_data"
    }
   ],
   "source": [
    "age.hist(grid=False, bins=20, rwidth=0.8,color='#343333')\n",
    "plt.title('Driver Age')\n",
    "plt.xlabel('Age')\n",
    "plt.ylabel('Qunatity')\n",
    "plt.grid(axis='y', alpha=0.5)"
   ]
  },
  {
   "cell_type": "code",
   "execution_count": 12,
   "metadata": {},
   "outputs": [
    {
     "data": {
      "image/png": "[encoded data removed]",
      "text/plain": [
       "<Figure size 432x288 with 1 Axes>"
      ]
     },
     "metadata": {
      "needs_background": "light"
     },
     "output_type": "display_data"
    }
   ],
   "source": [
    "male['driver_age'].hist(grid=False, bins=20, rwidth=0.8,color='#DC7633')\n",
    "plt.title('Male Driver Age')\n",
    "plt.xlabel('Age')\n",
    "plt.ylabel('Qunatity')\n",
    "plt.grid(axis='y', alpha=0.5)"
   ]
  },
  {
   "cell_type": "code",
   "execution_count": 13,
   "metadata": {},
   "outputs": [
    {
     "data": {
      "image/png": "[encoded data removed]",
      "text/plain": [
       "<Figure size 432x288 with 1 Axes>"
      ]
     },
     "metadata": {
      "needs_background": "light"
     },
     "output_type": "display_data"
    }
   ],
   "source": [
    "female['driver_age'].hist(grid=False, bins=20, rwidth=0.8,color='#DC7633')\n",
    "plt.title('Female Driver Age')\n",
    "plt.xlabel('Age')\n",
    "plt.ylabel('Qunatity')\n",
    "plt.grid(axis='y', alpha=0.5)"
   ]
  },
  {
   "cell_type": "code",
   "execution_count": 14,
   "metadata": {},
   "outputs": [],
   "source": [
    "black = data[data['driver_race'] == 'Black']\n",
    "white = data[data['driver_race'] == 'White']\n",
    "asian = data[data['driver_race'] == 'Asian']\n",
    "hispanic = data[data['driver_race'] == 'Hispanic']"
   ]
  },
  {
   "cell_type": "code",
   "execution_count": 15,
   "metadata": {},
   "outputs": [],
   "source": [
    "blackcount = black['driver_race'].count()\n",
    "whitecount = white['driver_race'].count()\n",
    "asiancount = asian['driver_race'].count()\n",
    "hispaniccount = hispanic['driver_race'].count()"
   ]
  },
  {
   "cell_type": "code",
   "execution_count": 16,
   "metadata": {},
   "outputs": [
    {
     "data": {
      "image/png": "[encoded data removed]",
      "text/plain": [
       "<Figure size 432x288 with 1 Axes>"
      ]
     },
     "metadata": {
      "needs_background": "light"
     },
     "output_type": "display_data"
    }
   ],
   "source": [
    "left = [1,2,3,4]\n",
    "height = [blackcount,whitecount,asiancount,hispaniccount]\n",
    "tick_label = ['Black' , 'White','Asian','Haspian']\n",
    "plt.bar(left, height, tick_label = tick_label, width = 0.5, color = ['#343333', '#e5dd85','#DC7633','#DAF7A6']) \n",
    "plt.xlabel('x - axis') \n",
    "plt.ylabel('y - axis') \n",
    "plt.title('Citizen Category') \n",
    "plt.show() "
   ]
  },
  {
   "cell_type": "code",
   "execution_count": 17,
   "metadata": {},
   "outputs": [
    {
     "data": {
      "text/plain": [
       "M    32979\n",
       "F    15482\n",
       "Name: driver_gender, dtype: int64"
      ]
     },
     "execution_count": 17,
     "metadata": {},
     "output_type": "execute_result"
    }
   ],
   "source": [
    "data[data['violation']==\"Speeding\"].driver_gender.value_counts()"
   ]
  },
  {
   "cell_type": "code",
   "execution_count": 23,
   "metadata": {},
   "outputs": [
    {
     "data": {
      "text/plain": [
       "Speeding               0.524350\n",
       "Moving violation       0.207012\n",
       "Equipment              0.135671\n",
       "Other                  0.057668\n",
       "Registration/plates    0.038461\n",
       "Seat belt              0.036839\n",
       "Name: violation, dtype: float64"
      ]
     },
     "execution_count": 23,
     "metadata": {},
     "output_type": "execute_result"
    }
   ],
   "source": [
    "malevoilation = data[data['driver_gender'] == \"M\"]['violation'].value_counts(normalize=True)\n",
    "malevoilation"
   ]
  },
  {
   "cell_type": "code",
   "execution_count": 24,
   "metadata": {},
   "outputs": [
    {
     "data": {
      "image/png": "[encoded data removed]",
      "text/plain": [
       "<Figure size 432x288 with 1 Axes>"
      ]
     },
     "metadata": {},
     "output_type": "display_data"
    }
   ],
   "source": [
    "sizes = [malevoilation[0], malevoilation[1], malevoilation[2], malevoilation[3],malevoilation[4],malevoilation[5]]\n",
    "labels='Speeding ','Moving violation','Equipment','Other','Registration/plates','Seat belt'\n",
    "colors = ['gold', 'yellowgreen', 'lightcoral', 'lightskyblue','pink','#e5dd85']\n",
    "explode = (0.1, 0, 0, 0,0,0)  # explode 1st slice\n",
    "# Plot\n",
    "plt.pie(sizes,colors=colors,autopct='%1.1f%%', shadow=False, startangle=90)\n",
    "plt.legend(labels, loc=\"best\")\n",
    "plt.axis('equal')\n",
    "plt.tight_layout()\n",
    "plt.title('Male Voilation')\n",
    "plt.show()\n"
   ]
  },
  {
   "cell_type": "code",
   "execution_count": 20,
   "metadata": {},
   "outputs": [
    {
     "data": {
      "text/plain": [
       "Speeding               0.658500\n",
       "Moving violation       0.136277\n",
       "Equipment              0.105780\n",
       "Registration/plates    0.043086\n",
       "Other                  0.029348\n",
       "Seat belt              0.027009\n",
       "Name: violation, dtype: float64"
      ]
     },
     "execution_count": 20,
     "metadata": {},
     "output_type": "execute_result"
    }
   ],
   "source": [
    "femalevoilation = data[data['driver_gender'] == \"F\"]['violation'].value_counts(normalize=True)\n",
    "femalevoilation"
   ]
  },
  {
   "cell_type": "code",
   "execution_count": 39,
   "metadata": {},
   "outputs": [
    {
     "data": {
      "image/png": "[encoded data removed]",
      "text/plain": [
       "<Figure size 432x288 with 1 Axes>"
      ]
     },
     "metadata": {},
     "output_type": "display_data"
    }
   ],
   "source": [
    "sizes = [femalevoilation[0], femalevoilation[1], femalevoilation[2], femalevoilation[3],femalevoilation[4],femalevoilation[5]]\n",
    "labels='Speeding ','Moving violation','Equipment','Other','Registration/plates','Seat belt'\n",
    "colors = ['gold', 'yellowgreen', 'lightcoral', 'lightskyblue','pink','#e5dd85']\n",
    "explode = (0.1, 0.1, 0.1, 0.1,0.1,0.1)  # explode 1st slice\n",
    "# Plot\n",
    "plt.pie(sizes,colors=colors,autopct='%1.1f%%', shadow=False, startangle=90)\n",
    "plt.legend(labels, loc=\"best\")\n",
    "plt.axis('equal')\n",
    "plt.title('Female Voilation')\n",
    "plt.tight_layout()\n",
    "plt.show()"
   ]
  },
  {
   "cell_type": "code",
   "execution_count": 27,
   "metadata": {},
   "outputs": [],
   "source": [
    "isarrest = data[data['is_arrested'] == True].is_arrested.count()\n",
    "notarrest = data[data['is_arrested'] == False].is_arrested.count()"
   ]
  },
  {
   "cell_type": "code",
   "execution_count": 37,
   "metadata": {},
   "outputs": [
    {
     "data": {
      "image/png": "[encoded data removed]",
      "text/plain": [
       "<Figure size 432x288 with 1 Axes>"
      ]
     },
     "metadata": {},
     "output_type": "display_data"
    }
   ],
   "source": [
    "sizes = [isarrest,notarrest]\n",
    "labels='Arrest','Not Arrest'\n",
    "colors = ['red', 'yellowgreen']\n",
    "explode = (0.1, 0.1)  # explode 1st slice\n",
    "# Plot\n",
    "plt.pie(sizes,colors=colors,autopct='%1.1f%%', shadow=False, startangle=90)\n",
    "plt.legend(labels, loc=\"best\")\n",
    "plt.axis('equal')\n",
    "plt.title('Arrest/Not Arrest Ratio')\n",
    "plt.tight_layout()\n",
    "plt.show()"
   ]
  },
  {
   "cell_type": "code",
   "execution_count": 42,
   "metadata": {},
   "outputs": [
    {
     "data": {
      "text/plain": [
       "array(['Citation', 'Arrest Driver', nan, 'N/D', 'Warning',\n",
       "       'Arrest Passenger', 'No Action'], dtype=object)"
      ]
     },
     "execution_count": 42,
     "metadata": {},
     "output_type": "execute_result"
    }
   ],
   "source": [
    "data['stop_outcome'].unique()"
   ]
  },
  {
   "cell_type": "code",
   "execution_count": 40,
   "metadata": {},
   "outputs": [],
   "source": [
    "citation = data[data['stop_outcome'] == 'Citation'].stop_outcome.count()\n",
    "arrestdriver = data[data['stop_outcome'] == 'Arrest Driver'].stop_outcome.count()\n",
    "nd = data[data['stop_outcome'] == 'N/D'].stop_outcome.count()\n",
    "warning = data[data['stop_outcome'] == 'Warning'].stop_outcome.count()\n",
    "arrestpassenger = data[data['stop_outcome'] == 'Arrest Passenger'].stop_outcome.count()\n",
    "noaction = data[data['stop_outcome'] == 'No Action'].stop_outcome.count()"
   ]
  },
  {
   "cell_type": "code",
   "execution_count": 121,
   "metadata": {},
   "outputs": [
    {
     "data": {
      "image/png": "[encoded data removed]",
      "text/plain": [
       "<Figure size 432x288 with 1 Axes>"
      ]
     },
     "metadata": {},
     "output_type": "display_data"
    }
   ],
   "source": [
    "sizes = [citation, arrestdriver,nd, warning,arrestpassenger,noaction]\n",
    "labels='Citation ','Arrest Driver','N/D','Warning','Arrest Passenger','No Action'\n",
    "colors = ['gold', 'yellowgreen', 'lightcoral', 'lightskyblue','pink','#e5dd85']\n",
    "explode = (0.1,1,1,1,1,1)  # explode slice\n",
    "# Plot\n",
    "plt.pie(sizes,colors=colors,autopct='%1.1f%%', shadow=False, startangle=90,explode=explode)\n",
    "plt.legend(labels, loc=\"right\",bbox_to_anchor=(1, 0, 0.5, 1))\n",
    "plt.axis('equal')\n",
    "plt.title('Stop OutCome')\n",
    "plt.tight_layout()\n",
    "plt.show()"
   ]
  },
  {
   "cell_type": "code",
   "execution_count": 83,
   "metadata": {},
   "outputs": [],
   "source": [
    "is_drugs_related_stop = data[data['drugs_related_stop'] == True].drugs_related_stop.count()\n",
    "is_drugs_related_not_stop = data[data['drugs_related_stop'] == False].drugs_related_stop.count()"
   ]
  },
  {
   "cell_type": "code",
   "execution_count": 84,
   "metadata": {},
   "outputs": [
    {
     "data": {
      "image/png": "[encoded data removed]",
      "text/plain": [
       "<Figure size 432x288 with 1 Axes>"
      ]
     },
     "metadata": {},
     "output_type": "display_data"
    }
   ],
   "source": [
    "sizes = [is_drugs_related_stop,is_drugs_related_not_stop]\n",
    "labels='Drug Related Arrest','Drug Related Not Arrest'\n",
    "colors = ['red', 'yellowgreen']\n",
    "explode = (0.1, 0.1)  # explode 1st slice\n",
    "# Plot\n",
    "plt.pie(sizes,colors=colors,autopct='%1.1f%%', shadow=False, startangle=90)\n",
    "plt.legend(labels, loc=\"best\")\n",
    "plt.axis('equal')\n",
    "plt.title('Arrest/Not Arrest Ratio')\n",
    "plt.tight_layout()\n",
    "plt.show()"
   ]
  },
  {
   "cell_type": "code",
   "execution_count": 92,
   "metadata": {},
   "outputs": [],
   "source": [
    "date = data['stop_date']\n"
   ]
  },
  {
   "cell_type": "code",
   "execution_count": 111,
   "metadata": {},
   "outputs": [],
   "source": [
    "year2005 =0\n",
    "year2006 =0\n",
    "year2007 =0\n",
    "year2008 =0\n",
    "year2009 =0\n",
    "year2010 =0\n",
    "year2011 =0\n",
    "year2012 =0\n",
    "year2013 =0\n",
    "year2014 =0\n",
    "year2015 =0\n",
    "for x in date:\n",
    "    if x[:4] == '2005':\n",
    "        year2005 = year2005 +1\n",
    "    elif x[:4] == '2006':\n",
    "        year2006 = year2006 +1\n",
    "    elif x[:4] == '2007':\n",
    "        year2007 = year2007 +1\n",
    "    elif x[:4] == '2008':\n",
    "        year2008 = year2008 +1\n",
    "    elif x[:4] == '2009':\n",
    "        year2009 = year2009 +1\n",
    "    elif x[:4] == '2010':\n",
    "        year2010 = year2010 +1\n",
    "    elif x[:4] == '2011':\n",
    "        year2011 = year2011 +1\n",
    "    elif x[:4] == '2012':\n",
    "        year2012 = year2012 +1\n",
    "    elif x[:4] == '2013':\n",
    "        year2013 = year2013 +1\n",
    "    elif x[:4] == '2014':\n",
    "        year2014 = year2014 +1\n",
    "    elif x[:4] == '2015':\n",
    "        year2015 = year2015 +1"
   ]
  },
  {
   "cell_type": "code",
   "execution_count": 112,
   "metadata": {},
   "outputs": [
    {
     "data": {
      "text/plain": [
       "2558"
      ]
     },
     "execution_count": 112,
     "metadata": {},
     "output_type": "execute_result"
    }
   ],
   "source": [
    "year2005"
   ]
  },
  {
   "cell_type": "code",
   "execution_count": 120,
   "metadata": {},
   "outputs": [
    {
     "data": {
      "image/png": "[encoded data removed]",
      "text/plain": [
       "<Figure size 432x288 with 1 Axes>"
      ]
     },
     "metadata": {
      "needs_background": "light"
     },
     "output_type": "display_data"
    }
   ],
   "source": [
    "left = [1,2,3,4,5,6,7,8,9,10,11]\n",
    "height = [year2005,year2006,year2007,year2008,year2009,year2010,year2011,year2012,year2013,year2014,year2015]\n",
    "tick_label = ['2005','2006','2007','2008','2009','2010','2011','2012','2013','2014','2015']\n",
    "plt.bar(left, height, tick_label = tick_label, width = 0.9, color = ['#343333', '#e5dd85','#DC7633','#DAF7A6','#003366','#990033','#333300','#993300','#0000cc','#cc6600','#99ccff']) \n",
    "plt.xlabel('x - axis') \n",
    "plt.ylabel('y - axis') \n",
    "plt.title('Year Record') \n",
    "plt.show() "
   ]
  },
  {
   "cell_type": "code",
   "execution_count": null,
   "metadata": {},
   "outputs": [],
   "source": []
  },
  {
   "cell_type": "code",
   "execution_count": null,
   "metadata": {},
   "outputs": [],
   "source": []
  }
 ],
 "metadata": {
  "kernelspec": {
   "display_name": "Python 3",
   "language": "python",
   "name": "python3"
  },
  "language_info": {
   "codemirror_mode": {
    "name": "ipython",
    "version": 3
   },
   "file_extension": ".py",
   "mimetype": "text/x-python",
   "name": "python",
   "nbconvert_exporter": "python",
   "pygments_lexer": "ipython3",
   "version": "3.7.3"
  }
 },
 "nbformat": 4,
 "nbformat_minor": 2
}
